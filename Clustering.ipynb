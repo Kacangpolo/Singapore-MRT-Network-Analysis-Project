{
  "nbformat": 4,
  "nbformat_minor": 0,
  "metadata": {
    "colab": {
      "provenance": []
    },
    "kernelspec": {
      "name": "python3",
      "display_name": "Python 3"
    },
    "language_info": {
      "name": "python"
    }
  },
  "cells": [
    {
      "cell_type": "code",
      "execution_count": 1,
      "metadata": {
        "colab": {
          "base_uri": "https://localhost:8080/"
        },
        "id": "Te6940VVP1hR",
        "outputId": "f94bfb04-6043-44ee-db6f-6bcd8eda3df1"
      },
      "outputs": [
        {
          "output_type": "stream",
          "name": "stdout",
          "text": [
            "Data Stasiun yang Dikaster (K-Means):\n",
            " Cluster ID                                                                                                                                                                                                                                                Stations\n",
            "          0                                                                                                                                              CC10/DT26,CG1/DT35,DT18,DT20,DT21,DT22,DT23,DT24,DT25,DT27,DT28,DT29,DT30,DT31,DT33,DT34,EW2/DT32,NE4/DT19\n",
            "          1                                   CG2,EW1,EW10,EW11,EW12/DT14,EW14/NS26,EW15,EW16/NE3/TE17,EW17,EW3,EW4,EW5,EW6,EW7,EW8/CC9,EW9,NS10,NS11,NS12,NS13,NS14,NS15,NS16,NS17/CC15,NS18,NS19,NS20,NS23,NS25/EW13,NS27/CE2/TE20,NS28,NS7,NS8,NS9/TE2,TE14/NS22\n",
            "          2                                                                             CC16,CC17/TE9,CC19/DT9,CC20,CC21,CC23,CC24,CC25,CC26,CC27,CC28,EW18,EW19,EW20,EW21/CC22,EW22,EW23,EW24/NS1,EW25,EW26,EW27,EW28,EW29,EW30,EW31,EW32,EW33,NS2,NS3,NS4/BP1,NS5\n",
            "          3 CC11,CC12,CC14,CC2,CC3,CC5,CC6,CC7,CC8,NE1/CC29,NE10,NE11,NE12/CC13,NE13,NE14,NE15,NE16/STC,NE17/PTC,NE18,NE5,NE7/DT12,NE8,NE9,NS24/NE6/CC1,PE1,PE2,PE3,PE4,PE5,PE6,PE7,PW1,PW2,PW3,PW4,PW5,PW6,PW7,SE1,SE2,SE3,SE4,SE5,SW1,SW2,SW3,SW4,SW5,SW6,SW7,SW8\n",
            "          4                                                                                                                                                                                                         BP10,BP11,BP12,BP13,BP2,BP3,BP4,BP5,BP7,BP8,BP9\n",
            "          5                                                                                                                                                  TE1,TE11,TE12,TE13,TE15,TE16,TE18,TE19,TE22,TE23,TE24,TE25,TE26,TE27,TE28,TE29,TE3,TE4,TE5,TE6,TE7,TE8\n",
            "          6                                                                                                                                                                          BP6/DT1,CC4/DT15,CE1/DT16,DT10,DT13,DT17,DT2,DT3,DT4,DT5,DT6,DT7,DT8,NS21/DT11\n"
          ]
        }
      ],
      "source": [
        "import pandas as pd\n",
        "from sklearn.cluster import KMeans\n",
        "from sklearn.preprocessing import StandardScaler\n",
        "import matplotlib.pyplot as plt\n",
        "\n",
        "df = pd.read_csv('od_am_peak.csv')\n",
        "\n",
        "origin_pt_codes = df['ORIGIN_PT_CODE']\n",
        "X = df.drop('ORIGIN_PT_CODE', axis=1)\n",
        "\n",
        "# Data Standardization\n",
        "scaler = StandardScaler()\n",
        "X_scaled = scaler.fit_transform(X)\n",
        "\n",
        "# k=7\n",
        "kmeans = KMeans(n_clusters=7, init='k-means++', random_state=42, n_init=10)\n",
        "cluster_labels = kmeans.fit_predict(X_scaled)\n",
        "\n",
        "# Label\n",
        "df['Cluster'] = cluster_labels\n",
        "\n",
        "# Make List\n",
        "clustered_data_list = []\n",
        "\n",
        "# Iteration\n",
        "for cluster_id in sorted(df['Cluster'].unique()):\n",
        "    stations_in_cluster = df[df['Cluster'] == cluster_id]['ORIGIN_PT_CODE'].tolist()\n",
        "    stations_str = ','.join(stations_in_cluster)\n",
        "    clustered_data_list.append({'Cluster ID': cluster_id, 'Stations': stations_str})\n",
        "\n",
        "# Create DataFrame\n",
        "clustered_stations_df = pd.DataFrame(clustered_data_list)\n",
        "\n",
        "print(\"Data Stasiun yang Dikaster (K-Means):\")\n",
        "print(clustered_stations_df.to_string(index=False))"
      ]
    }
  ]
}